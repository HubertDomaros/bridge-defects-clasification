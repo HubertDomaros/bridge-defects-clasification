{
 "cells": [
  {
   "cell_type": "code",
   "id": "initial_id",
   "metadata": {
    "collapsed": true,
    "ExecuteTime": {
     "end_time": "2025-01-28T19:50:34.557172Z",
     "start_time": "2025-01-28T19:49:20.908256Z"
    }
   },
   "source": [
    "import os\n",
    "import torch\n",
    "from tqdm import tqdm\n",
    "import keras\n",
    "import keras.api.layers as layers\n",
    "import keras.api.models as models\n",
    "import keras.api.applications as applications\n",
    "from keras.api.utils import image_dataset_from_directory\n",
    "from keras.api.callbacks import EarlyStopping, ModelCheckpoint\n",
    "\n",
    "os.environ['KERAS_BACKEND'] = 'torch'\n",
    "\n",
    "train_dataset = image_dataset_from_directory('datasets/images/train', label_mode='categorical', image_size=(224, 224))\n",
    "val_dataset = image_dataset_from_directory('datasets/images/val', label_mode='categorical', image_size=(224, 224))\n",
    "test_dataset = image_dataset_from_directory('datasets/images/test', label_mode='categorical', image_size=(224, 224))\n",
    "\n"
   ],
   "outputs": [
    {
     "name": "stdout",
     "output_type": "stream",
     "text": [
      "Found 9166 files belonging to 8 classes.\n",
      "Found 611 files belonging to 8 classes.\n",
      "Found 628 files belonging to 8 classes.\n"
     ]
    }
   ],
   "execution_count": 1
  },
  {
   "metadata": {
    "ExecuteTime": {
     "end_time": "2025-01-28T19:55:11.508341Z",
     "start_time": "2025-01-28T19:55:11.485485Z"
    }
   },
   "cell_type": "code",
   "source": "train_dataset.take(1)",
   "id": "e12fbad03adb6ed7",
   "outputs": [
    {
     "data": {
      "text/plain": [
       "<_TakeDataset element_spec=(TensorSpec(shape=(None, 224, 224, 3), dtype=tf.float32, name=None), TensorSpec(shape=(None, 8), dtype=tf.float32, name=None))>"
      ]
     },
     "execution_count": 7,
     "metadata": {},
     "output_type": "execute_result"
    }
   ],
   "execution_count": 7
  }
 ],
 "metadata": {
  "kernelspec": {
   "display_name": "Python 3",
   "language": "python",
   "name": "python3"
  },
  "language_info": {
   "codemirror_mode": {
    "name": "ipython",
    "version": 2
   },
   "file_extension": ".py",
   "mimetype": "text/x-python",
   "name": "python",
   "nbconvert_exporter": "python",
   "pygments_lexer": "ipython2",
   "version": "2.7.6"
  }
 },
 "nbformat": 4,
 "nbformat_minor": 5
}
