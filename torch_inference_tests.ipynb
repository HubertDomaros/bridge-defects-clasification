{
 "cells": [
  {
   "cell_type": "code",
   "execution_count": 15,
   "id": "ccccab180717cb6f",
   "metadata": {
    "ExecuteTime": {
     "end_time": "2025-01-30T03:48:36.364970Z",
     "start_time": "2025-01-30T03:48:36.353183Z"
    }
   },
   "outputs": [],
   "source": [
    "import os\n",
    "\n",
    "import torch\n",
    "import torch.nn as nn\n",
    "from torch.utils.data import DataLoader\n",
    "from torchvision.datasets.folder import ImageFolder\n",
    "from torchvision import models, transforms\n",
    "\n",
    "import pandas as pd\n",
    "from tqdm import tqdm\n",
    "\n",
    "import utils.constants as c"
   ]
  },
  {
   "cell_type": "code",
   "execution_count": 16,
   "id": "707a9e5681c8f9c8",
   "metadata": {
    "ExecuteTime": {
     "end_time": "2025-01-30T03:48:36.386384Z",
     "start_time": "2025-01-30T03:48:36.382226Z"
    }
   },
   "outputs": [],
   "source": [
    "class Classifier(nn.Module):\n",
    "    def __init__(self, num_classes):\n",
    "        super(Classifier, self).__init__()\n",
    "        self.backbone = models.resnet50(weights=\"IMAGENET1K_V2\")\n",
    "        for param in self.backbone.parameters():\n",
    "            param.requires_grad = False\n",
    "\n",
    "        self.backbone.fc = nn.Linear(self.backbone.fc.in_features, num_classes)\n",
    "\n",
    "    def forward(self, x):\n",
    "        return self.backbone(x)\n",
    "\n"
   ]
  },
  {
   "cell_type": "code",
   "execution_count": 17,
   "id": "1755a00dee034b0d",
   "metadata": {
    "ExecuteTime": {
     "end_time": "2025-01-30T03:48:36.397715Z",
     "start_time": "2025-01-30T03:48:36.386384Z"
    }
   },
   "outputs": [],
   "source": [
    "device = 'cpu'\n",
    "src_dir = r'D:\\0-Code\\PG\\2_sem\\0_Dyplom\\bridge-defects-clasification\\datasets\\images\\test'\n",
    "\n",
    "transform = transforms.Compose([\n",
    "    transforms.Resize((224, 224)),\n",
    "    transforms.ToTensor(),\n",
    "    transforms.Normalize((0.485, 0.456, 0.406), (0.229, 0.224, 0.225)),\n",
    "])\n",
    "\n",
    "dataset = ImageFolder(src_dir, transform=transform)\n",
    "dataloader = DataLoader(dataset, batch_size=32)"
   ]
  },
  {
   "cell_type": "code",
   "execution_count": 18,
   "id": "b33a452038963d8c",
   "metadata": {
    "ExecuteTime": {
     "end_time": "2025-01-30T03:48:37.103540Z",
     "start_time": "2025-01-30T03:48:36.407488Z"
    }
   },
   "outputs": [],
   "source": [
    "def load_model(pth_path):\n",
    "    model = Classifier(8)\n",
    "    state_dict = torch.load(pth_path, weights_only=False)\n",
    "    model.load_state_dict(state_dict)\n",
    "    model.eval()\n",
    "    return model\n",
    "\n",
    "my_model = load_model('output/resnet_torch_training_1.pth')"
   ]
  },
  {
   "cell_type": "code",
   "execution_count": 19,
   "id": "4a24eded1289951c",
   "metadata": {
    "ExecuteTime": {
     "end_time": "2025-01-30T03:48:37.116882Z",
     "start_time": "2025-01-30T03:48:37.112410Z"
    }
   },
   "outputs": [],
   "source": [
    "def predict(model: nn.Module, test_dataloader: DataLoader) -> pd.DataFrame:\n",
    "    results = {\n",
    "        'img': [],\n",
    "        'pred_labels': []\n",
    "    }\n",
    "    with torch.inference_mode():\n",
    "        for images, labels in tqdm(test_dataloader):\n",
    "            images = images.to(device)\n",
    "            outputs = model(images)\n",
    "            predictions = torch.argmax(outputs, dim=1)\n",
    "\n",
    "            results['img'].extend(os.path.basename(test_dataloader.dataset.samples[i][0])\n",
    "                                        for i in range(len(predictions)))\n",
    "            results['pred_labels'].extend(predictions.cpu().numpy())\n",
    "    return pd.DataFrame(results)"
   ]
  },
  {
   "cell_type": "code",
   "execution_count": 20,
   "id": "initial_id",
   "metadata": {
    "ExecuteTime": {
     "end_time": "2025-01-30T03:51:11.093181Z",
     "start_time": "2025-01-30T03:48:37.126374Z"
    },
    "collapsed": true
   },
   "outputs": [
    {
     "name": "stderr",
     "output_type": "stream",
     "text": [
      "100%|██████████| 20/20 [00:39<00:00,  2.00s/it]\n"
     ]
    },
    {
     "data": {
      "text/html": [
       "<div>\n",
       "<style scoped>\n",
       "    .dataframe tbody tr th:only-of-type {\n",
       "        vertical-align: middle;\n",
       "    }\n",
       "\n",
       "    .dataframe tbody tr th {\n",
       "        vertical-align: top;\n",
       "    }\n",
       "\n",
       "    .dataframe thead th {\n",
       "        text-align: right;\n",
       "    }\n",
       "</style>\n",
       "<table border=\"1\" class=\"dataframe\">\n",
       "  <thead>\n",
       "    <tr style=\"text-align: right;\">\n",
       "      <th></th>\n",
       "      <th>img</th>\n",
       "      <th>ground_truth</th>\n",
       "      <th>pred_labels</th>\n",
       "    </tr>\n",
       "  </thead>\n",
       "  <tbody>\n",
       "    <tr>\n",
       "      <th>0</th>\n",
       "      <td>image_0000264_crop_0000001.png</td>\n",
       "      <td>0</td>\n",
       "      <td>1</td>\n",
       "    </tr>\n",
       "    <tr>\n",
       "      <th>1</th>\n",
       "      <td>image_0000264_crop_0000001.png</td>\n",
       "      <td>0</td>\n",
       "      <td>0</td>\n",
       "    </tr>\n",
       "    <tr>\n",
       "      <th>2</th>\n",
       "      <td>image_0000264_crop_0000001.png</td>\n",
       "      <td>0</td>\n",
       "      <td>0</td>\n",
       "    </tr>\n",
       "    <tr>\n",
       "      <th>3</th>\n",
       "      <td>image_0000264_crop_0000001.png</td>\n",
       "      <td>0</td>\n",
       "      <td>0</td>\n",
       "    </tr>\n",
       "    <tr>\n",
       "      <th>4</th>\n",
       "      <td>image_0000264_crop_0000001.png</td>\n",
       "      <td>0</td>\n",
       "      <td>0</td>\n",
       "    </tr>\n",
       "    <tr>\n",
       "      <th>...</th>\n",
       "      <td>...</td>\n",
       "      <td>...</td>\n",
       "      <td>...</td>\n",
       "    </tr>\n",
       "    <tr>\n",
       "      <th>623</th>\n",
       "      <td>image_0000945_crop_0000001.png</td>\n",
       "      <td>0</td>\n",
       "      <td>0</td>\n",
       "    </tr>\n",
       "    <tr>\n",
       "      <th>624</th>\n",
       "      <td>image_0000945_crop_0000001.png</td>\n",
       "      <td>0</td>\n",
       "      <td>3</td>\n",
       "    </tr>\n",
       "    <tr>\n",
       "      <th>625</th>\n",
       "      <td>image_0000945_crop_0000001.png</td>\n",
       "      <td>0</td>\n",
       "      <td>1</td>\n",
       "    </tr>\n",
       "    <tr>\n",
       "      <th>626</th>\n",
       "      <td>image_0000945_crop_0000001.png</td>\n",
       "      <td>0</td>\n",
       "      <td>0</td>\n",
       "    </tr>\n",
       "    <tr>\n",
       "      <th>627</th>\n",
       "      <td>image_0000945_crop_0000001.png</td>\n",
       "      <td>0</td>\n",
       "      <td>0</td>\n",
       "    </tr>\n",
       "  </tbody>\n",
       "</table>\n",
       "<p>628 rows × 3 columns</p>\n",
       "</div>"
      ],
      "text/plain": [
       "                                img  ground_truth  pred_labels\n",
       "0    image_0000264_crop_0000001.png             0            1\n",
       "1    image_0000264_crop_0000001.png             0            0\n",
       "2    image_0000264_crop_0000001.png             0            0\n",
       "3    image_0000264_crop_0000001.png             0            0\n",
       "4    image_0000264_crop_0000001.png             0            0\n",
       "..                              ...           ...          ...\n",
       "623  image_0000945_crop_0000001.png             0            0\n",
       "624  image_0000945_crop_0000001.png             0            3\n",
       "625  image_0000945_crop_0000001.png             0            1\n",
       "626  image_0000945_crop_0000001.png             0            0\n",
       "627  image_0000945_crop_0000001.png             0            0\n",
       "\n",
       "[628 rows x 3 columns]"
      ]
     },
     "execution_count": 20,
     "metadata": {},
     "output_type": "execute_result"
    }
   ],
   "source": [
    "predicted_df = predict(my_model, dataloader)\n",
    "true_df = pd.read_json('datasets/labels/test.json')[['img', 'combination_id']]\n",
    "true_df.rename(columns={'combination_id': 'ground_truth'}, inplace=True)\n",
    "\n",
    "df = true_df.merge(predicted_df, on='img')\n",
    "df"
   ]
  },
  {
   "cell_type": "code",
   "execution_count": 21,
   "id": "b5367266150f25ed",
   "metadata": {
    "ExecuteTime": {
     "end_time": "2025-01-30T03:51:11.199300Z",
     "start_time": "2025-01-30T03:51:11.191457Z"
    }
   },
   "outputs": [
    {
     "data": {
      "text/plain": [
       "result\n",
       "False    414\n",
       "True     214\n",
       "Name: count, dtype: int64"
      ]
     },
     "execution_count": 21,
     "metadata": {},
     "output_type": "execute_result"
    }
   ],
   "source": [
    "df['result'] = df['pred_labels'] == df['ground_truth']\n",
    "results = df['result'].value_counts()\n",
    "results"
   ]
  },
  {
   "cell_type": "code",
   "execution_count": 22,
   "id": "1d972be1785039db",
   "metadata": {
    "ExecuteTime": {
     "end_time": "2025-01-30T03:51:11.318264Z",
     "start_time": "2025-01-30T03:51:11.312410Z"
    }
   },
   "outputs": [
    {
     "name": "stdout",
     "output_type": "stream",
     "text": [
      "0.34076433121019106\n"
     ]
    }
   ],
   "source": [
    "accuracy = results.iloc[1]/len(df['img'])\n",
    "print(accuracy)"
   ]
  },
  {
   "cell_type": "code",
   "execution_count": null,
   "id": "83c43c389e9a63e5",
   "metadata": {
    "ExecuteTime": {
     "end_time": "2025-01-30T03:51:11.420640Z",
     "start_time": "2025-01-30T03:51:11.418276Z"
    }
   },
   "outputs": [],
   "source": []
  }
 ],
 "metadata": {
  "kernelspec": {
   "display_name": "dyplom",
   "language": "python",
   "name": "python3"
  },
  "language_info": {
   "codemirror_mode": {
    "name": "ipython",
    "version": 3
   },
   "file_extension": ".py",
   "mimetype": "text/x-python",
   "name": "python",
   "nbconvert_exporter": "python",
   "pygments_lexer": "ipython3",
   "version": "3.12.8"
  }
 },
 "nbformat": 4,
 "nbformat_minor": 5
}
